{
  "nbformat": 4,
  "nbformat_minor": 0,
  "metadata": {
    "colab": {
      "provenance": [],
      "include_colab_link": true
    },
    "kernelspec": {
      "name": "python3",
      "display_name": "Python 3"
    },
    "language_info": {
      "name": "python"
    }
  },
  "cells": [
    {
      "cell_type": "markdown",
      "metadata": {
        "id": "view-in-github",
        "colab_type": "text"
      },
      "source": [
        "<a href=\"https://colab.research.google.com/github/monbruin61/Pocket-Racers/blob/main/IntroToMachineLearning_Lab.ipynb\" target=\"_parent\"><img src=\"https://colab.research.google.com/assets/colab-badge.svg\" alt=\"Open In Colab\"/></a>"
      ]
    },
    {
      "cell_type": "markdown",
      "source": [
        "This skeleton is intended to gain intuition behind gradient descent.\n"
      ],
      "metadata": {
        "id": "muqqV8jeVL_L"
      }
    },
    {
      "cell_type": "code",
      "execution_count": null,
      "metadata": {
        "id": "L5fLK6aADdbb"
      },
      "outputs": [],
      "source": [
        "import numpy as np\n",
        "import csv\n",
        "from numpy.core.memmap import dtype\n",
        "import matplotlib.pyplot as plt\n",
        "\n",
        "# You may use these sklearn tools in your implementation, but no others.\n",
        "from sklearn.model_selection import train_test_split\n",
        "from sklearn.utils import shuffle"
      ]
    },
    {
      "cell_type": "code",
      "source": [
        "from google.colab import drive\n",
        "drive.mount('/content/drive/')"
      ],
      "metadata": {
        "id": "Y_su9yqzaRUT",
        "outputId": "bb52fe46-3c5a-4e9d-a5eb-2e0919d3383d",
        "colab": {
          "base_uri": "https://localhost:8080/"
        }
      },
      "execution_count": null,
      "outputs": [
        {
          "output_type": "stream",
          "name": "stdout",
          "text": [
            "Mounted at /content/drive/\n"
          ]
        }
      ]
    },
    {
      "cell_type": "code",
      "source": [
        "WEATHER_PATH = '/content/drive/MyDrive/Copy of weatherHistory.csv'\n",
        "data = np.loadtxt(WEATHER_PATH, delimiter=\",\", dtype=str)\n",
        "data = data[:,1:-1]\n",
        "\n",
        "header = data[0]\n",
        "data = data[1:]"
      ],
      "metadata": {
        "id": "gzfbZfiOd-QD"
      },
      "execution_count": null,
      "outputs": []
    },
    {
      "cell_type": "markdown",
      "source": [
        "##Part 1: Single line fit\n",
        "\n",
        "The temperature will be estimated using linear regression on humidity data. The results of a single feature linear regression will be compared with the closed form solution."
      ],
      "metadata": {
        "id": "6ednkRXhJw-C"
      }
    },
    {
      "cell_type": "code",
      "source": [
        "# Right now, the data is in one large matrix. Seperate out x as the humidity\n",
        "# and y as the temperature.\n",
        "\n",
        "x = data[:, 4]\n",
        "y = data[:, 2]\n",
        "x = x.astype('float')\n",
        "y = y.astype('float')\n"
      ],
      "metadata": {
        "id": "BMM6lhCgcX6C"
      },
      "execution_count": null,
      "outputs": []
    },
    {
      "cell_type": "code",
      "source": [
        "# Code the mean squared error function given x, y, a, and b.\n",
        "def MSE(x, y, a, b):\n",
        "  sum = 0\n",
        "  for t in range(len(x)):\n",
        "    y_hat = a * x[t] + b\n",
        "    error = y[t] - y_hat\n",
        "    squared = error ** 2\n",
        "    sum = sum + squared\n",
        "  return sum / len(x)\n",
        "\n",
        "\n",
        "# Code the gradient descent function. This will return the new values of a and b\n",
        "# after the gradient has been calculated and the learning rate has been applied.\n",
        "def grad_des(x, y, a, b, alpha):\n",
        "  sum1 = 0\n",
        "  sum2 = 0\n",
        "\n",
        "  for t in range(len(x)):\n",
        "    one = -2 * x[t] * y[t]\n",
        "    two = 2 * a * (x[t] ** 2)\n",
        "    three = 2 * x[t] * b\n",
        "    thing = one + two + three\n",
        "    sum1 = sum1 + thing\n",
        "  partial_a = sum1 / len(x)\n",
        "\n",
        "  for t in range(len(x)):\n",
        "    one = -2 * y[t]\n",
        "    two = 2 * a * x[t]\n",
        "    three = 2 * b\n",
        "    thing = one + two + three\n",
        "    sum2 = sum2 + thing\n",
        "  partial_b = sum2 / len(x)\n",
        "\n",
        "  a2 = a - alpha * partial_a\n",
        "  b2 = b - alpha * partial_b\n",
        "\n",
        "  return a2, b2\n"
      ],
      "metadata": {
        "id": "jloJFPgkcYhA"
      },
      "execution_count": null,
      "outputs": []
    },
    {
      "cell_type": "code",
      "source": [
        "# Initialize a and b.\n",
        "a = 1\n",
        "b = 2\n",
        "lr = .55\n",
        "\n",
        "losses = []\n",
        "for i in range(40):\n",
        "  losses.append(MSE(x, y, a, b))\n",
        "  a, b = grad_des(x, y, a, b, lr)\n",
        "\n",
        "print(f\"Final Training Loss: {losses[-1]}\")\n",
        "plt.plot(losses)\n",
        "plt.title(\"single feature loss over time\")\n",
        "\n",
        "\n",
        "\n",
        "\n",
        "\n",
        "\n",
        "\n",
        "\n",
        "\n",
        "\n",
        "\n",
        "\n",
        "\n",
        "\n",
        "\n",
        "\n",
        "\n",
        "\n",
        "\n",
        "\n",
        "\n",
        "\n",
        "\n",
        "\n"
      ],
      "metadata": {
        "id": "g5aW2pfhcvCB",
        "outputId": "cb727089-cf37-42b0-b678-83a4808539d4",
        "colab": {
          "base_uri": "https://localhost:8080/",
          "height": 487
        }
      },
      "execution_count": null,
      "outputs": [
        {
          "output_type": "stream",
          "name": "stdout",
          "text": [
            "Final Training Loss: 60.65572827768584\n"
          ]
        },
        {
          "output_type": "execute_result",
          "data": {
            "text/plain": [
              "Text(0.5, 1.0, 'single feature loss over time')"
            ]
          },
          "metadata": {},
          "execution_count": 6
        },
        {
          "output_type": "display_data",
          "data": {
            "text/plain": [
              "<Figure size 640x480 with 1 Axes>"
            ],
            "image/png": "[encoded data removed]"
          },
          "metadata": {}
        }
      ]
    },
    {
      "cell_type": "code",
      "source": [
        "# Let's take a look at what our line of best fit looks like!\n",
        "plt.scatter(x, y)\n",
        "plt.plot(x, a*x+b, color='orange')"
      ],
      "metadata": {
        "id": "fQkqljmFOhU-",
        "outputId": "10e2529b-86bd-48f0-a04c-a688ed790808",
        "colab": {
          "base_uri": "https://localhost:8080/",
          "height": 447
        }
      },
      "execution_count": null,
      "outputs": [
        {
          "output_type": "execute_result",
          "data": {
            "text/plain": [
              "[<matplotlib.lines.Line2D at 0x79cd57e297e0>]"
            ]
          },
          "metadata": {},
          "execution_count": 7
        },
        {
          "output_type": "display_data",
          "data": {
            "text/plain": [
              "<Figure size 640x480 with 1 Axes>"
            ],
            "image/png": "[encoded data removed]"
          },
          "metadata": {}
        }
      ]
    },
    {
      "cell_type": "code",
      "source": [
        "# Find the optimal solution using the closed form equation\n",
        "\n",
        "\n",
        "X = np.vstack((x, np.ones_like(x))).T\n",
        "print(X.shape)\n",
        "X_T = X.T\n",
        "\n",
        "\n",
        "th = np.linalg.inv(X_T @ X) @ X_T @ y\n",
        "a1, b1 = th\n",
        "print(th.shape)"
      ],
      "metadata": {
        "id": "pxGDtLifABtp",
        "colab": {
          "base_uri": "https://localhost:8080/"
        },
        "outputId": "dd64bdc1-de92-43d6-a870-22a43119f086"
      },
      "execution_count": null,
      "outputs": [
        {
          "output_type": "stream",
          "name": "stdout",
          "text": [
            "(96453, 2)\n",
            "(2,)\n"
          ]
        }
      ]
    },
    {
      "cell_type": "code",
      "source": [
        "# Compare our closed form with our gradient descent. The closed form solution\n",
        "# should be the same thing as the result of polyfit.\n",
        "\n",
        "a2, b2 = np.polyfit(x, y, 1)\n",
        "print(f\"Grad Desc:   a: {a} b: {b} MSE: {MSE(x, y, a, b)}\")\n",
        "print(f\"Closed form: a: {a1} b: {b1} MSE: {MSE(x, y, a1, b1)}\")\n",
        "print(f\"Poly Fit:    a: {a2} b: {b2}\")\n",
        "\n",
        "plt.scatter(x, y)\n",
        "plt.plot(x, a*x+b, color='orange', label = \"Gradient Descent\")\n",
        "plt.plot(x, a1*x+b1, color='yellow', label = \"Closed form\")\n",
        "plt.legend()\n",
        "plt.title(\"closed and gd best fit lines\")\n",
        "\n",
        "\n",
        "\n",
        "\n",
        "\n",
        "\n",
        "\n",
        "\n",
        "\n",
        "\n",
        "\n",
        "\n",
        "\n",
        "\n",
        "\n",
        "\n",
        "\n",
        "\n",
        "\n",
        "\n",
        "\n",
        "\n"
      ],
      "metadata": {
        "id": "3CPIwSJGPeuL",
        "colab": {
          "base_uri": "https://localhost:8080/",
          "height": 521
        },
        "outputId": "d3da9998-a1df-42b0-b17c-30e710c2b72e"
      },
      "execution_count": null,
      "outputs": [
        {
          "output_type": "stream",
          "name": "stdout",
          "text": [
            "Grad Desc:   a: -18.864412328799045 b: 25.57320705635452 MSE: 60.34116091394204\n",
            "Closed form: a: -30.894383758050832 b: 34.63692912688918 MSE: 54.76182980771795\n",
            "Poly Fit:    a: -30.894383758051426 b: 34.63692912688962\n"
          ]
        },
        {
          "output_type": "execute_result",
          "data": {
            "text/plain": [
              "Text(0.5, 1.0, 'closed and gd best fit lines')"
            ]
          },
          "metadata": {},
          "execution_count": 9
        },
        {
          "output_type": "display_data",
          "data": {
            "text/plain": [
              "<Figure size 640x480 with 1 Axes>"
            ],
            "image/png": "[encoded data removed]"
          },
          "metadata": {}
        }
      ]
    },
    {
      "cell_type": "markdown",
      "source": [
        "##Part 2: Multiple input features\n",
        "\n",
        "In this part, the gradient descent will be modified to accept multiple features. This will require converting the precipitation type and weather summaries to one-hot encodings."
      ],
      "metadata": {
        "id": "7epkPYWlQ4nZ"
      }
    },
    {
      "cell_type": "code",
      "source": [
        "# First, lets get our x and y data one-hot encoded.\n",
        "# hot_X should be the data where the categorical fields are converted into\n",
        "#     one-hot encodings (temperature data excluded).\n",
        "# As a sanity check, the dimensions should be (96453, 38).\n",
        "# hot_y should still just be the temperature data.\n",
        "x6 = data[:, 3]\n",
        "x7 = data[:, 4]\n",
        "x8 = data[:, 5]\n",
        "x9 = data[:, 6]\n",
        "x10 = data[:, 7]\n",
        "x11 = data[:, 8]\n",
        "x12 = data[:, 9]\n",
        "x13 = np.vstack((x6, x7, x8, x9, x10, x11, x12, np.ones_like(x6))).T\n",
        "print(x13.shape)\n",
        "\n",
        "x1 = data[:, 0]\n",
        "x2 = data[:, 1]\n",
        "def one_hot(array):\n",
        "    unique, inverse = np.unique(array, return_inverse=True)\n",
        "    onehot = np.eye(unique.shape[0])[inverse]\n",
        "    return onehot\n",
        "x3 = one_hot(x1)\n",
        "print(x3.shape)\n",
        "x4 = one_hot(x2)\n",
        "print(x4.shape)\n",
        "\n",
        "#Note: hot_X and hot_Y aren't just the one-hot columns, they also include other columns, bad naming on my part\n",
        "\n",
        "x5 = np.hstack((x3, x4))\n",
        "print(x5.shape)\n",
        "x14 = np.hstack((x5, x13))\n",
        "print(x14.shape)\n",
        "hot_X = x14\n",
        "hot_X = hot_X.astype(float)\n",
        "hot_Y = data[:, 2]\n",
        "hot_Y = hot_Y.astype(float)\n",
        "hot_Y = hot_Y.reshape(-1, 1)\n",
        "print(hot_Y.shape)\n",
        "print((hot_X.T).shape)"
      ],
      "metadata": {
        "id": "xf5Xh3bTDyt7",
        "colab": {
          "base_uri": "https://localhost:8080/"
        },
        "outputId": "37648ee4-303f-468c-92b8-55d7897b546a"
      },
      "execution_count": null,
      "outputs": [
        {
          "output_type": "stream",
          "name": "stdout",
          "text": [
            "(96453, 8)\n",
            "(96453, 27)\n",
            "(96453, 3)\n",
            "(96453, 30)\n",
            "(96453, 38)\n",
            "(96453, 1)\n",
            "(38, 96453)\n"
          ]
        }
      ]
    },
    {
      "cell_type": "code",
      "source": [
        "from types import LambdaType\n",
        "def grad_des2(X, y, theta, alpha):\n",
        "  X_T = X.T\n",
        "  first = -2 * (X_T @ y)\n",
        "  second = 2 * X_T @ X @ theta\n",
        "  grad_L = (first + second) / (len(y))\n",
        "  theta_next = theta - (alpha * grad_L)\n",
        "  return theta_next\n",
        "\n",
        "def MSE2(x, y, theta):\n",
        "  first = (y - x @ theta).T\n",
        "  second = (y - x @ theta)\n",
        "  L = (first @ second) / (len(y))\n",
        "  return L[0][0]\n"
      ],
      "metadata": {
        "id": "ER3-CeSzlGZ-"
      },
      "execution_count": null,
      "outputs": []
    },
    {
      "cell_type": "code",
      "source": [
        "lr = 1e-7\n",
        "\n",
        "theta = np.zeros((len(hot_X[0]), 1))\n",
        "#ohhh, since theta gets updated, starting with zeroes isnt a bad idea\n",
        "\n",
        "losses = []\n",
        "print(MSE2(hot_X, hot_Y, theta))\n",
        "\n",
        "for i in range(40):\n",
        "  losses.append(MSE2(hot_X, hot_Y, theta))\n",
        "  theta = grad_des2(hot_X, hot_Y, theta, lr)\n",
        "\n",
        "\n",
        "print(f\"Final Training Loss: {losses[-1]}\")\n",
        "plt.plot(losses)\n",
        "plt.title(\"Multi feature loss over time\")\n",
        "\n",
        "\n",
        "\n",
        "\n",
        "\n",
        "\n",
        "\n",
        "\n",
        "\n",
        "\n",
        "\n",
        "\n",
        "\n",
        "\n",
        "\n",
        "\n",
        "\n",
        "\n",
        "\n",
        "\n",
        "\n",
        "\n",
        "\n",
        "\n"
      ],
      "metadata": {
        "id": "KA_3W7uIX7wY",
        "colab": {
          "base_uri": "https://localhost:8080/",
          "height": 504
        },
        "outputId": "2ddea312-7e2d-4f88-cadb-54ada9b44eff"
      },
      "execution_count": null,
      "outputs": [
        {
          "output_type": "stream",
          "name": "stdout",
          "text": [
            "233.61990593832368\n",
            "Final Training Loss: 92.84887574248523\n"
          ]
        },
        {
          "output_type": "execute_result",
          "data": {
            "text/plain": [
              "Text(0.5, 1.0, 'Multi feature loss over time')"
            ]
          },
          "metadata": {},
          "execution_count": 12
        },
        {
          "output_type": "display_data",
          "data": {
            "text/plain": [
              "<Figure size 640x480 with 1 Axes>"
            ],
            "image/png": "[encoded data removed]"
          },
          "metadata": {}
        }
      ]
    },
    {
      "cell_type": "code",
      "source": [
        "# Now solve for theta using the closed form and compare your final training loss between\n",
        "# the closed form and regression solution\n",
        "\n",
        "X_T = hot_X.T\n",
        "print(X_T.shape)\n",
        "print(hot_X.shape)\n",
        "th2 = np.linalg.pinv(X_T @ hot_X) @ X_T @ hot_Y\n",
        "MSE2(hot_X, hot_Y, th2)"
      ],
      "metadata": {
        "id": "NAwYox2IlAwR",
        "colab": {
          "base_uri": "https://localhost:8080/"
        },
        "outputId": "0fc017f3-8134-48f5-aaa7-8dbc4b83339d"
      },
      "execution_count": null,
      "outputs": [
        {
          "output_type": "stream",
          "name": "stdout",
          "text": [
            "(38, 96453)\n",
            "(96453, 38)\n"
          ]
        },
        {
          "output_type": "execute_result",
          "data": {
            "text/plain": [
              "0.8821996506580477"
            ]
          },
          "metadata": {},
          "execution_count": 13
        }
      ]
    },
    {
      "cell_type": "markdown",
      "source": [
        "As you can (probably) see, the gradient descent error is worse than the single input version and much worse than the closed form solution. To minimize the loss, using minibatch gradient descent should allow the model to traverse through any local minimums and reach the absolute minimum."
      ],
      "metadata": {
        "id": "ohg09kKbowKh"
      }
    },
    {
      "cell_type": "code",
      "source": [
        "lr = 1e-7\n",
        "#I decreased the learning rate since it appeared to not converge to a minimum.\n",
        "theta = np.zeros((len(hot_X[0]), 1))\n",
        "theta = theta.reshape(-1,1)\n",
        "\n",
        "losses = []\n",
        "folds = 10000\n",
        "\n",
        "for u in range(40):\n",
        "  #reorganizes the order of items/elements\n",
        "\n",
        "  hot_X_train, hot_Y_train = shuffle(hot_X, hot_Y)\n",
        "  hot_X_folds = np.array_split(hot_X_train, folds)\n",
        "  hot_Y_folds = np.array_split(hot_Y_train, folds)\n",
        "  for i in range(folds): #so basically finding the correct theta value\n",
        "    # Do gradient descent\n",
        "    # losses.append(MSE2(hot_X, hot_Y, theta))\n",
        "    # theta = grad_des2(hot_X, hot_Y, theta, lr)\n",
        "    losses.append(MSE2(hot_X_folds[i], hot_Y_folds[i], theta))\n",
        "    theta = grad_des2(hot_X_folds[i], hot_Y_folds[i], theta, lr)\n",
        "\n",
        "\n",
        "\n",
        "print(f\"Final Training Loss: {losses[-1]}\")\n",
        "plt.plot(losses)\n",
        "plt.title(\"Modified multi feature loss over time\")\n",
        "\n",
        "\n",
        "\n",
        "\n",
        "\n",
        "\n",
        "\n",
        "\n",
        "\n",
        "\n",
        "\n",
        "\n",
        "\n",
        "\n",
        "\n",
        "\n",
        "\n",
        "\n",
        "\n",
        "\n",
        "\n",
        "\n",
        "\n",
        "\n",
        "\n",
        "\n"
      ],
      "metadata": {
        "id": "CRt5qgwwlA3z",
        "colab": {
          "base_uri": "https://localhost:8080/",
          "height": 487
        },
        "outputId": "13ea084d-c45d-44fb-c020-b97bf9912521"
      },
      "execution_count": null,
      "outputs": [
        {
          "output_type": "stream",
          "name": "stdout",
          "text": [
            "Final Training Loss: 0.4520565998071489\n"
          ]
        },
        {
          "output_type": "execute_result",
          "data": {
            "text/plain": [
              "Text(0.5, 1.0, 'Modified multi feature loss over time')"
            ]
          },
          "metadata": {},
          "execution_count": 14
        },
        {
          "output_type": "display_data",
          "data": {
            "text/plain": [
              "<Figure size 640x480 with 1 Axes>"
            ],
            "image/png": "[encoded data removed]"
          },
          "metadata": {}
        }
      ]
    },
    {
      "cell_type": "markdown",
      "source": [
        "##Part 3: Logistic Regression and K-fold Cross Validation\n",
        "\n",
        "In this part of the lab, health statistics will be used to estimate if someone will suffer a heart attack in the next 10 years. This time, we will be using K-fold cross validation to determine the viability of our model."
      ],
      "metadata": {
        "id": "24daL8AevMGl"
      }
    },
    {
      "cell_type": "code",
      "source": [
        "HAM_PATH = '/content/drive/MyDrive/Copy of framingham.csv'\n",
        "health_data = np.loadtxt(HAM_PATH, delimiter=\",\", dtype=str)\n",
        "\n",
        "# But wait! The data is not complete! Take a look to see what is wrong with it\n",
        "# and remove any offending datapoints (rows) - this is the \"cleaning\" stage of\n",
        "# the ML pipeline.\n",
        "# Challange: do this in one line.\n",
        "health_data = health_data[~np.any(np.char.find(health_data, \"NA\") != -1, axis = 1)]"
      ],
      "metadata": {
        "id": "XuXTFje4X-6S"
      },
      "execution_count": null,
      "outputs": []
    },
    {
      "cell_type": "code",
      "source": [
        "# Create your X and Y data and clean it! Binarize the assigned-sex-at-birth\n",
        "# column and add the bias term to your X data\n",
        "\n",
        "#add the 1st column and bias column to x.\n",
        "\n",
        "health_x = health_data[1:,1:-1]\n",
        "\n",
        "print(health_x.shape)\n",
        "first = health_data[1:,0]\n",
        "print(first.shape)\n",
        "first = np.asarray(first, dtype = np.dtype('i4'))\n",
        "first = first.reshape(-1, 1)\n",
        "\n",
        "second = one_hot(first)\n",
        "print(second.shape)\n",
        "health_x = np.hstack((health_x, second))\n",
        "print(health_x.shape)\n",
        "health_x = np.hstack((health_x, np.ones_like(first)))\n",
        "print(health_x.shape)\n",
        "\n",
        "#start at 1 index,\n",
        "health_y = health_data[1:,-1]\n",
        "health_y = health_y.reshape(-1,1)\n",
        "print(health_y.shape)\n",
        "\n",
        "#Clean it up!\n",
        "\n",
        "health_x = health_x.astype('double')\n",
        "health_y = health_y.astype('double')"
      ],
      "metadata": {
        "id": "QjoUIp179B6V",
        "colab": {
          "base_uri": "https://localhost:8080/"
        },
        "outputId": "8096e5ba-ca93-496e-f757-614bb1541133"
      },
      "execution_count": null,
      "outputs": [
        {
          "output_type": "stream",
          "name": "stdout",
          "text": [
            "(3656, 14)\n",
            "(3656,)\n",
            "(3656, 2)\n",
            "(3656, 16)\n",
            "(3656, 17)\n",
            "(3656, 1)\n"
          ]
        }
      ]
    },
    {
      "cell_type": "code",
      "source": [
        "# Separate your training data into 5 folds for cross validation\n",
        "\n",
        "#splits dataset into random subsets, so approx 2924 of the 3656 items go to the training matrices while the otehr 732 go to the testing ones.\n",
        "X_train, X_test, y_train, y_test = train_test_split(health_x, health_y, test_size=0.2, random_state=0)\n",
        "#reorganizes the order of items/elements\n",
        "X_train, y_train = shuffle(X_train, y_train)\n",
        "k = 5\n",
        "\n",
        "print(X_train.shape)\n",
        "\n",
        "X_folds = []\n",
        "y_folds = []\n",
        "#DOESNT HAVE ANY ELEMENTS, can't use = to assign, must use append to add new elements first\n",
        "\n",
        "#So as long as the number of columns doesn't change, we're chillin.\n",
        "#Since 2924 can't be divided by 5, ill give 4 585, while the last one gets 584.\n",
        "leng = len(X_train[:,0])\n",
        "divis = int(leng / k)+1 #the plus 1 is just random\n",
        "begin = 0\n",
        "end =  divis\n",
        "\n",
        "# for i in range(k):\n",
        "#   begin = divis*i\n",
        "#   end = divis * i + divis\n",
        "#   if i < 4:\n",
        "#     X_folds.append(X_train[begin:end,:])\n",
        "#     y_folds.append(y_train[begin:end,:])\n",
        "#   else:\n",
        "#     X_folds.append(X_train[begin:,:])\n",
        "#     y_folds.append(y_train[begin:,:])\n",
        "\n",
        "bom1 = np.array_split(X_train, 5)\n",
        "bom2 = np.array_split(y_train, 5)\n",
        "for i in range(5):\n",
        "  X_folds.append(bom1[i])\n",
        "  y_folds.append(bom2[i])\n",
        "\n",
        "# A quick check:\n",
        "for fold in range(k):\n",
        "  print(X_folds[fold].shape)\n",
        "  print(y_folds[fold].shape)"
      ],
      "metadata": {
        "id": "c1pPkRN53Mig",
        "colab": {
          "base_uri": "https://localhost:8080/"
        },
        "outputId": "cb3b81d2-3180-4350-a367-824d5a54cae1"
      },
      "execution_count": null,
      "outputs": [
        {
          "output_type": "stream",
          "name": "stdout",
          "text": [
            "(2924, 17)\n",
            "(585, 17)\n",
            "(585, 1)\n",
            "(585, 17)\n",
            "(585, 1)\n",
            "(585, 17)\n",
            "(585, 1)\n",
            "(585, 17)\n",
            "(585, 1)\n",
            "(584, 17)\n",
            "(584, 1)\n"
          ]
        }
      ]
    },
    {
      "cell_type": "code",
      "source": [
        "# Now lets code all of our relevant equations.\n",
        "\n",
        "def sigmoid(x): #let's assume that what's being passed in is actually X @ theta\n",
        "  denom = 1 + np.exp(-1 * x)\n",
        "  return 1 / (denom + 1e-10)\n",
        "\n",
        "def accuracy(X1, y1, theta): #literally calculates the loss/error.\n",
        "  inpute = X1 @ theta\n",
        "\n",
        "  prediction = sigmoid(inpute)\n",
        "  prediction = np.round(prediction)\n",
        "\n",
        "  correct = 0\n",
        "  total = len(prediction)\n",
        "  for u in range(total):\n",
        "    if prediction[u] == y1[u]:\n",
        "      correct += 1\n",
        "\n",
        "  return correct/total\n",
        "\n",
        "def cross_entropy_loss(X, y, theta):\n",
        "    xthe = X @ theta\n",
        "    xthe = xthe.reshape(-1,1)\n",
        "    sigmer = sigmoid(xthe)\n",
        "\n",
        "    first = -y * np.log2(sigmer + 1e-10)\n",
        "    second = -(1 - y) * np.log2(1 - sigmer + 1e-10)\n",
        "    thing = first + second\n",
        "    return sum(thing)/len(thing)\n",
        "\n",
        "def log_grad_desc(X, y_hat, y, alpha, theta): #the value we pass in for y-hat will be sigmoid(X @ theta)\n",
        "\n",
        "  #ok so literally look at the last equation (8) and literally the square brackets with XT's either has to be transpose of X or just X\n",
        "  dell_L = (1/len(y)) * ((X.T) @ (y_hat - y))\n",
        "  theta_next = theta - (alpha * dell_L)\n",
        "  return theta_next"
      ],
      "metadata": {
        "id": "8MLzr9k93sd6"
      },
      "execution_count": null,
      "outputs": []
    },
    {
      "cell_type": "code",
      "source": [
        "# Now lets validate our model. Use the validation error to tune your\n",
        "#hyperparameters. Also, compare your validation and training errors\n",
        "\n",
        "lr = 6e-4\n",
        "\n",
        "val_losses = []\n",
        "train_losses = []\n",
        "for fold in range(k):\n",
        "  theta = np.random.randn(health_x.shape[1]) # Reinitialize theta, ohhh since shape is (n,m) , shape[1] is just (n), ie this entire line just extracts a row\n",
        "  theta = theta.reshape(-1,1)\n",
        "  # Set your validation and training datasets\n",
        "  X_val = X_folds[fold]\n",
        "  y_val = y_folds[fold]\n",
        "  #X_val = X_folds[k] , train\n",
        "\n",
        "  X_2train = X_folds\n",
        "  y_2train = y_folds\n",
        "\n",
        "  X_dum = np.delete(X_2train, fold)\n",
        "  y_dum = np.delete(y_2train, fold)\n",
        "  leng = len(X_2train)\n",
        "  #so now we want to combine all the folds...\n",
        "  X_2train = np.vstack((X_dum[0], X_dum[1], X_dum[2], X_dum[3]))\n",
        "  y_2train = np.vstack((y_dum[0], y_dum[1], y_dum[2], y_dum[3]))\n",
        "\n",
        "\n",
        "\n",
        "  xthe = X_2train @ theta\n",
        "  y_hat = sigmoid(xthe)\n",
        "  y_hat = y_hat.reshape(-1,1)\n",
        "\n",
        "  for i in range(5000): #so basically finding the correct theta value\n",
        "    # Do gradient descent\n",
        "    theta = log_grad_desc(X_2train, y_hat, y_2train, lr, theta)\n",
        "  train_losses.append(cross_entropy_loss(X_2train, y_2train, theta))\n",
        "  #should the line be right after the gradient descent? or should it be after val_losses?\n",
        "  #if so, what would my x and y argument be?\n",
        "  print(accuracy(X_2train, y_2train, theta))\n",
        "\n",
        "  val_losses.append(cross_entropy_loss(X_val, y_val, theta)) #even if x val and y val dont change, theta does so its good data\n",
        "\n",
        "\n",
        "\n",
        "print(f\"train_losses: {sum(train_losses)/len(train_losses)}\")\n",
        "print(f\"val_losses: {sum(val_losses)/len(val_losses)}\")"
      ],
      "metadata": {
        "id": "HgPWsVoy4K8i",
        "colab": {
          "base_uri": "https://localhost:8080/"
        },
        "outputId": "fc4c34bc-b7ef-46ee-d920-7d6d85a632c0"
      },
      "execution_count": null,
      "outputs": [
        {
          "output_type": "stream",
          "name": "stderr",
          "text": [
            "/usr/local/lib/python3.10/dist-packages/numpy/lib/function_base.py:5071: VisibleDeprecationWarning: Creating an ndarray from ragged nested sequences (which is a list-or-tuple of lists-or-tuples-or ndarrays with different lengths or shapes) is deprecated. If you meant to do this, you must specify 'dtype=object' when creating the ndarray.\n",
            "  arr = asarray(arr)\n"
          ]
        },
        {
          "output_type": "stream",
          "name": "stdout",
          "text": [
            "0.14749893116716545\n",
            "0.15348439504061565\n",
            "0.15476699444206926\n",
            "0.8465156049593844\n",
            "0.8431623931623932\n",
            "train_losses: [18.45651377]\n",
            "val_losses: [18.20162841]\n"
          ]
        },
        {
          "output_type": "stream",
          "name": "stderr",
          "text": [
            "<ipython-input-18-b62d950050b5>:4: RuntimeWarning: overflow encountered in exp\n",
            "  denom = 1 + np.exp(-1 * x)\n"
          ]
        }
      ]
    },
    {
      "cell_type": "code",
      "source": [
        "# Training - once you have tuned your hyperparameters, train your model once\n",
        "# more on all the training data and then test it on the test dataset\n",
        "\n",
        "lr = 6e-4\n",
        "#theta = np.random.randn(health_x.shape[1]) #why isn't theta initialized to just ones??\n",
        "theta = np.random.randn(health_x.shape[1])\n",
        "theta = theta.reshape(-1,1)\n",
        "\n",
        "  #this time, don't reset theta, also combine all the folds\n",
        "xthe = X_train @ theta\n",
        "y_hat = sigmoid(xthe)\n",
        "y_hat = y_hat.reshape(-1,1)\n",
        "print(y_hat.shape)\n",
        "\n",
        "\n",
        "for i in range(6000): #so basically finding the correct theta value\n",
        "  # Do gradient descent\n",
        "  theta = log_grad_desc(X_train, y_hat, y_train, lr, theta)\n",
        "\n",
        "print(f\"Testing Accuracy: {accuracy(X_test, y_test, theta)}\")"
      ],
      "metadata": {
        "id": "siykWRXC5TOh",
        "colab": {
          "base_uri": "https://localhost:8080/"
        },
        "outputId": "1f428fdf-ac90-4797-d4c8-f35961ea2065"
      },
      "execution_count": null,
      "outputs": [
        {
          "output_type": "stream",
          "name": "stdout",
          "text": [
            "(2924, 1)\n",
            "Testing Accuracy: 0.8510928961748634\n"
          ]
        },
        {
          "output_type": "stream",
          "name": "stderr",
          "text": [
            "<ipython-input-18-b62d950050b5>:4: RuntimeWarning: overflow encountered in exp\n",
            "  denom = 1 + np.exp(-1 * x)\n"
          ]
        }
      ]
    }
  ]
}